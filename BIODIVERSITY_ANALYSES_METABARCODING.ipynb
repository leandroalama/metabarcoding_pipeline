{
 "cells": [
  {
   "cell_type": "markdown",
   "id": "0f0007f1",
   "metadata": {},
   "source": [
    "# BIODIVERSITY ANALYSES METABARCODING\n",
    "\n",
    "R packages needed for the follow analyses:\n"
   ]
  },
  {
   "cell_type": "code",
   "execution_count": 27,
   "id": "dd88910e",
   "metadata": {},
   "outputs": [],
   "source": [
    "library(tidyverse)\n",
    "library(phyloseq)\n",
    "library(DESeq2)\n",
    "library(dendextend)\n",
    "library(viridis)"
   ]
  },
  {
   "cell_type": "markdown",
   "id": "c4f0a747",
   "metadata": {},
   "source": [
    "## Files required in the phyleq biodiversity analysis:\n",
    "**Counting table**:\n",
    "> In metabarcoding analysis is a data table that summarizes the number of times each DNA sequence (or \"read\") was observed in a sample.\n",
    "\n",
    "   >The counting table summarizes the abundance of each identified DNA sequence in the sample. Each row of the table represents a unique DNA sequence, and each column represents a different sample. The values in the table indicate the number of times each sequence was observed in each sample. \n",
    "\n",
    "   >The counting table is an important input for metabarcoding analyses, such as **diversity analyses**, community composition comparisons, and statistical tests for differential abundance.\n",
    "   \n",
    "**Sample Metadata**:\n",
    "> Information about the samples being analyzed, such as sample type, sample collection location, and sample collection time, can be important in understanding patterns of diversity and abundance.\n",
    "\n",
    "**Taxonomy table**\n",
    "> A taxonomy table is a data table that lists the taxonomic assignments for each sequence in a microbial community. The table typically includes one row for each sequence and columns that represent the taxonomic ranks, such as domain, phylum, class, order, family, genus, and species. \n",
    "\n",
    "> The taxonomic assignments for each sequence are usually determined by comparing the sequence to a reference database. \n",
    "\n",
    "> Taxonomy tables summarize the taxonomic composition of the community and to compare the relative abundance of taxa between samples or treatments.\n",
    "\n",
    "> Taxonomy tables are typically saved in a tab-separated text file format, where each row represents a sequence and each column represents a taxonomic rank or other metadata associated with the sequence. The first column of the table usually contains a unique sequence identifier or OTU ID, and the remaining columns contain the taxonomic assignments or other metadata."
   ]
  },
  {
   "cell_type": "markdown",
   "id": "6038f53b",
   "metadata": {},
   "source": [
    "# Sample Metadata"
   ]
  },
  {
   "cell_type": "code",
   "execution_count": 3,
   "id": "1d9558e7",
   "metadata": {
    "scrolled": true
   },
   "outputs": [
    {
     "data": {
      "text/html": [
       "<table class=\"dataframe\">\n",
       "<caption>A data.frame: 24 × 4</caption>\n",
       "<thead>\n",
       "\t<tr><th></th><th scope=col>CODE</th><th scope=col>TYPE</th><th scope=col>COLOUR</th><th scope=col>color</th></tr>\n",
       "\t<tr><th></th><th scope=col>&lt;chr&gt;</th><th scope=col>&lt;chr&gt;</th><th scope=col>&lt;chr&gt;</th><th scope=col>&lt;chr&gt;</th></tr>\n",
       "</thead>\n",
       "<tbody>\n",
       "\t<tr><th scope=row>AN1</th><td>AN1 </td><td>ANTES  </td><td>#9E7300</td><td>#9E7300</td></tr>\n",
       "\t<tr><th scope=row>AN2</th><td>AN2 </td><td>ANTES  </td><td>#9E7300</td><td>#9E7300</td></tr>\n",
       "\t<tr><th scope=row>AN3</th><td>AN3 </td><td>ANTES  </td><td>#9E7300</td><td>#9E7300</td></tr>\n",
       "\t<tr><th scope=row>AN4</th><td>AN4 </td><td>ANTES  </td><td>#9E7300</td><td>#9E7300</td></tr>\n",
       "\t<tr><th scope=row>AN5</th><td>AN5 </td><td>ANTES  </td><td>#9E7300</td><td>#9E7300</td></tr>\n",
       "\t<tr><th scope=row>AN6</th><td>AN6 </td><td>ANTES  </td><td>#9E7300</td><td>#9E7300</td></tr>\n",
       "\t<tr><th scope=row>AN7</th><td>AN7 </td><td>ANTES  </td><td>#9E7300</td><td>#9E7300</td></tr>\n",
       "\t<tr><th scope=row>AN8</th><td>AN8 </td><td>ANTES  </td><td>#9E7300</td><td>#9E7300</td></tr>\n",
       "\t<tr><th scope=row>AN9</th><td>AN9 </td><td>ANTES  </td><td>#9E7300</td><td>#9E7300</td></tr>\n",
       "\t<tr><th scope=row>AN10</th><td>AN10</td><td>ANTES  </td><td>#9E7300</td><td>#9E7300</td></tr>\n",
       "\t<tr><th scope=row>AN11</th><td>AN11</td><td>ANTES  </td><td>#9E7300</td><td>#9E7300</td></tr>\n",
       "\t<tr><th scope=row>AN12</th><td>AN12</td><td>ANTES  </td><td>#9E7300</td><td>#9E7300</td></tr>\n",
       "\t<tr><th scope=row>DE1</th><td>DE1 </td><td>DESPUES</td><td>#009E73</td><td>#009E73</td></tr>\n",
       "\t<tr><th scope=row>DE2</th><td>DE2 </td><td>DESPUES</td><td>#009E73</td><td>#009E73</td></tr>\n",
       "\t<tr><th scope=row>DE3</th><td>DE3 </td><td>DESPUES</td><td>#009E73</td><td>#009E73</td></tr>\n",
       "\t<tr><th scope=row>DE4</th><td>DE4 </td><td>DESPUES</td><td>#009E73</td><td>#009E73</td></tr>\n",
       "\t<tr><th scope=row>DE5</th><td>DE5 </td><td>DESPUES</td><td>#009E73</td><td>#009E73</td></tr>\n",
       "\t<tr><th scope=row>DE6</th><td>DE6 </td><td>DESPUES</td><td>#009E73</td><td>#009E73</td></tr>\n",
       "\t<tr><th scope=row>DE7</th><td>DE7 </td><td>DESPUES</td><td>#009E73</td><td>#009E73</td></tr>\n",
       "\t<tr><th scope=row>DE8</th><td>DE8 </td><td>DESPUES</td><td>#009E73</td><td>#009E73</td></tr>\n",
       "\t<tr><th scope=row>DE9</th><td>DE9 </td><td>DESPUES</td><td>#009E73</td><td>#009E73</td></tr>\n",
       "\t<tr><th scope=row>DE10</th><td>DE10</td><td>DESPUES</td><td>#009E73</td><td>#009E73</td></tr>\n",
       "\t<tr><th scope=row>DE11</th><td>DE11</td><td>DESPUES</td><td>#009E73</td><td>#009E73</td></tr>\n",
       "\t<tr><th scope=row>DE12</th><td>DE12</td><td>DESPUES</td><td>#009E73</td><td>#009E73</td></tr>\n",
       "</tbody>\n",
       "</table>\n"
      ],
      "text/latex": [
       "A data.frame: 24 × 4\n",
       "\\begin{tabular}{r|llll}\n",
       "  & CODE & TYPE & COLOUR & color\\\\\n",
       "  & <chr> & <chr> & <chr> & <chr>\\\\\n",
       "\\hline\n",
       "\tAN1 & AN1  & ANTES   & \\#9E7300 & \\#9E7300\\\\\n",
       "\tAN2 & AN2  & ANTES   & \\#9E7300 & \\#9E7300\\\\\n",
       "\tAN3 & AN3  & ANTES   & \\#9E7300 & \\#9E7300\\\\\n",
       "\tAN4 & AN4  & ANTES   & \\#9E7300 & \\#9E7300\\\\\n",
       "\tAN5 & AN5  & ANTES   & \\#9E7300 & \\#9E7300\\\\\n",
       "\tAN6 & AN6  & ANTES   & \\#9E7300 & \\#9E7300\\\\\n",
       "\tAN7 & AN7  & ANTES   & \\#9E7300 & \\#9E7300\\\\\n",
       "\tAN8 & AN8  & ANTES   & \\#9E7300 & \\#9E7300\\\\\n",
       "\tAN9 & AN9  & ANTES   & \\#9E7300 & \\#9E7300\\\\\n",
       "\tAN10 & AN10 & ANTES   & \\#9E7300 & \\#9E7300\\\\\n",
       "\tAN11 & AN11 & ANTES   & \\#9E7300 & \\#9E7300\\\\\n",
       "\tAN12 & AN12 & ANTES   & \\#9E7300 & \\#9E7300\\\\\n",
       "\tDE1 & DE1  & DESPUES & \\#009E73 & \\#009E73\\\\\n",
       "\tDE2 & DE2  & DESPUES & \\#009E73 & \\#009E73\\\\\n",
       "\tDE3 & DE3  & DESPUES & \\#009E73 & \\#009E73\\\\\n",
       "\tDE4 & DE4  & DESPUES & \\#009E73 & \\#009E73\\\\\n",
       "\tDE5 & DE5  & DESPUES & \\#009E73 & \\#009E73\\\\\n",
       "\tDE6 & DE6  & DESPUES & \\#009E73 & \\#009E73\\\\\n",
       "\tDE7 & DE7  & DESPUES & \\#009E73 & \\#009E73\\\\\n",
       "\tDE8 & DE8  & DESPUES & \\#009E73 & \\#009E73\\\\\n",
       "\tDE9 & DE9  & DESPUES & \\#009E73 & \\#009E73\\\\\n",
       "\tDE10 & DE10 & DESPUES & \\#009E73 & \\#009E73\\\\\n",
       "\tDE11 & DE11 & DESPUES & \\#009E73 & \\#009E73\\\\\n",
       "\tDE12 & DE12 & DESPUES & \\#009E73 & \\#009E73\\\\\n",
       "\\end{tabular}\n"
      ],
      "text/markdown": [
       "\n",
       "A data.frame: 24 × 4\n",
       "\n",
       "| <!--/--> | CODE &lt;chr&gt; | TYPE &lt;chr&gt; | COLOUR &lt;chr&gt; | color &lt;chr&gt; |\n",
       "|---|---|---|---|---|\n",
       "| AN1 | AN1  | ANTES   | #9E7300 | #9E7300 |\n",
       "| AN2 | AN2  | ANTES   | #9E7300 | #9E7300 |\n",
       "| AN3 | AN3  | ANTES   | #9E7300 | #9E7300 |\n",
       "| AN4 | AN4  | ANTES   | #9E7300 | #9E7300 |\n",
       "| AN5 | AN5  | ANTES   | #9E7300 | #9E7300 |\n",
       "| AN6 | AN6  | ANTES   | #9E7300 | #9E7300 |\n",
       "| AN7 | AN7  | ANTES   | #9E7300 | #9E7300 |\n",
       "| AN8 | AN8  | ANTES   | #9E7300 | #9E7300 |\n",
       "| AN9 | AN9  | ANTES   | #9E7300 | #9E7300 |\n",
       "| AN10 | AN10 | ANTES   | #9E7300 | #9E7300 |\n",
       "| AN11 | AN11 | ANTES   | #9E7300 | #9E7300 |\n",
       "| AN12 | AN12 | ANTES   | #9E7300 | #9E7300 |\n",
       "| DE1 | DE1  | DESPUES | #009E73 | #009E73 |\n",
       "| DE2 | DE2  | DESPUES | #009E73 | #009E73 |\n",
       "| DE3 | DE3  | DESPUES | #009E73 | #009E73 |\n",
       "| DE4 | DE4  | DESPUES | #009E73 | #009E73 |\n",
       "| DE5 | DE5  | DESPUES | #009E73 | #009E73 |\n",
       "| DE6 | DE6  | DESPUES | #009E73 | #009E73 |\n",
       "| DE7 | DE7  | DESPUES | #009E73 | #009E73 |\n",
       "| DE8 | DE8  | DESPUES | #009E73 | #009E73 |\n",
       "| DE9 | DE9  | DESPUES | #009E73 | #009E73 |\n",
       "| DE10 | DE10 | DESPUES | #009E73 | #009E73 |\n",
       "| DE11 | DE11 | DESPUES | #009E73 | #009E73 |\n",
       "| DE12 | DE12 | DESPUES | #009E73 | #009E73 |\n",
       "\n"
      ],
      "text/plain": [
       "     CODE TYPE    COLOUR  color  \n",
       "AN1  AN1  ANTES   #9E7300 #9E7300\n",
       "AN2  AN2  ANTES   #9E7300 #9E7300\n",
       "AN3  AN3  ANTES   #9E7300 #9E7300\n",
       "AN4  AN4  ANTES   #9E7300 #9E7300\n",
       "AN5  AN5  ANTES   #9E7300 #9E7300\n",
       "AN6  AN6  ANTES   #9E7300 #9E7300\n",
       "AN7  AN7  ANTES   #9E7300 #9E7300\n",
       "AN8  AN8  ANTES   #9E7300 #9E7300\n",
       "AN9  AN9  ANTES   #9E7300 #9E7300\n",
       "AN10 AN10 ANTES   #9E7300 #9E7300\n",
       "AN11 AN11 ANTES   #9E7300 #9E7300\n",
       "AN12 AN12 ANTES   #9E7300 #9E7300\n",
       "DE1  DE1  DESPUES #009E73 #009E73\n",
       "DE2  DE2  DESPUES #009E73 #009E73\n",
       "DE3  DE3  DESPUES #009E73 #009E73\n",
       "DE4  DE4  DESPUES #009E73 #009E73\n",
       "DE5  DE5  DESPUES #009E73 #009E73\n",
       "DE6  DE6  DESPUES #009E73 #009E73\n",
       "DE7  DE7  DESPUES #009E73 #009E73\n",
       "DE8  DE8  DESPUES #009E73 #009E73\n",
       "DE9  DE9  DESPUES #009E73 #009E73\n",
       "DE10 DE10 DESPUES #009E73 #009E73\n",
       "DE11 DE11 DESPUES #009E73 #009E73\n",
       "DE12 DE12 DESPUES #009E73 #009E73"
      ]
     },
     "metadata": {},
     "output_type": "display_data"
    }
   ],
   "source": [
    "sample_info_tab <- read.csv(\"metadata_ORAL.csv\", header= TRUE, row.names= 1,\n",
    "                       check.names=FALSE, sep=\",\")\n",
    "sample_info_tab$color <- as.character(sample_info_tab$COLOUR)\n",
    "sample_info_tab"
   ]
  },
  {
   "cell_type": "markdown",
   "id": "f511d30a",
   "metadata": {},
   "source": [
    "# Counting table"
   ]
  },
  {
   "cell_type": "code",
   "execution_count": 4,
   "id": "07d2addd",
   "metadata": {
    "scrolled": false
   },
   "outputs": [
    {
     "data": {
      "text/html": [
       "<table class=\"dataframe\">\n",
       "<caption>A matrix: 6 × 24 of type int</caption>\n",
       "<thead>\n",
       "\t<tr><th></th><th scope=col>AN1</th><th scope=col>AN2</th><th scope=col>AN3</th><th scope=col>AN4</th><th scope=col>AN5</th><th scope=col>AN6</th><th scope=col>AN7</th><th scope=col>AN8</th><th scope=col>AN9</th><th scope=col>AN10</th><th scope=col>...</th><th scope=col>DE3</th><th scope=col>DE4</th><th scope=col>DE5</th><th scope=col>DE6</th><th scope=col>DE7</th><th scope=col>DE8</th><th scope=col>DE9</th><th scope=col>DE10</th><th scope=col>DE11</th><th scope=col>DE12</th></tr>\n",
       "</thead>\n",
       "<tbody>\n",
       "\t<tr><th scope=row>2</th><td>  5</td><td> 2</td><td>19</td><td>15</td><td> 5</td><td>16</td><td> 5</td><td>17</td><td>18</td><td>  5</td><td>...</td><td>2</td><td>7</td><td> 9</td><td>8</td><td>6</td><td>8</td><td>3</td><td>10</td><td> 9</td><td>22</td></tr>\n",
       "\t<tr><th scope=row>158</th><td>  0</td><td> 8</td><td> 0</td><td> 2</td><td> 0</td><td> 0</td><td> 0</td><td> 0</td><td> 0</td><td>  3</td><td>...</td><td>0</td><td>0</td><td> 0</td><td>0</td><td>1</td><td>0</td><td>0</td><td> 0</td><td> 0</td><td> 2</td></tr>\n",
       "\t<tr><th scope=row>163</th><td>  0</td><td> 0</td><td> 0</td><td> 0</td><td> 0</td><td> 0</td><td> 0</td><td> 0</td><td> 1</td><td>  0</td><td>...</td><td>0</td><td>0</td><td> 0</td><td>0</td><td>0</td><td>0</td><td>0</td><td> 0</td><td> 0</td><td> 0</td></tr>\n",
       "\t<tr><th scope=row>195</th><td>  0</td><td> 1</td><td> 0</td><td> 0</td><td> 0</td><td> 0</td><td> 1</td><td> 0</td><td> 0</td><td>  0</td><td>...</td><td>0</td><td>1</td><td> 1</td><td>0</td><td>0</td><td>0</td><td>0</td><td> 0</td><td> 0</td><td> 0</td></tr>\n",
       "\t<tr><th scope=row>196</th><td>  0</td><td> 0</td><td> 0</td><td> 0</td><td> 0</td><td> 0</td><td> 0</td><td> 1</td><td> 0</td><td>  0</td><td>...</td><td>0</td><td>0</td><td> 0</td><td>0</td><td>0</td><td>0</td><td>0</td><td> 0</td><td> 0</td><td> 0</td></tr>\n",
       "\t<tr><th scope=row>199</th><td>139</td><td>35</td><td> 6</td><td>15</td><td>62</td><td>72</td><td>35</td><td>11</td><td>42</td><td>213</td><td>...</td><td>4</td><td>8</td><td>43</td><td>3</td><td>3</td><td>8</td><td>0</td><td>12</td><td>40</td><td>77</td></tr>\n",
       "</tbody>\n",
       "</table>\n"
      ],
      "text/latex": [
       "A matrix: 6 × 24 of type int\n",
       "\\begin{tabular}{r|lllllllllllllllllllll}\n",
       "  & AN1 & AN2 & AN3 & AN4 & AN5 & AN6 & AN7 & AN8 & AN9 & AN10 & ... & DE3 & DE4 & DE5 & DE6 & DE7 & DE8 & DE9 & DE10 & DE11 & DE12\\\\\n",
       "\\hline\n",
       "\t2 &   5 &  2 & 19 & 15 &  5 & 16 &  5 & 17 & 18 &   5 & ... & 2 & 7 &  9 & 8 & 6 & 8 & 3 & 10 &  9 & 22\\\\\n",
       "\t158 &   0 &  8 &  0 &  2 &  0 &  0 &  0 &  0 &  0 &   3 & ... & 0 & 0 &  0 & 0 & 1 & 0 & 0 &  0 &  0 &  2\\\\\n",
       "\t163 &   0 &  0 &  0 &  0 &  0 &  0 &  0 &  0 &  1 &   0 & ... & 0 & 0 &  0 & 0 & 0 & 0 & 0 &  0 &  0 &  0\\\\\n",
       "\t195 &   0 &  1 &  0 &  0 &  0 &  0 &  1 &  0 &  0 &   0 & ... & 0 & 1 &  1 & 0 & 0 & 0 & 0 &  0 &  0 &  0\\\\\n",
       "\t196 &   0 &  0 &  0 &  0 &  0 &  0 &  0 &  1 &  0 &   0 & ... & 0 & 0 &  0 & 0 & 0 & 0 & 0 &  0 &  0 &  0\\\\\n",
       "\t199 & 139 & 35 &  6 & 15 & 62 & 72 & 35 & 11 & 42 & 213 & ... & 4 & 8 & 43 & 3 & 3 & 8 & 0 & 12 & 40 & 77\\\\\n",
       "\\end{tabular}\n"
      ],
      "text/markdown": [
       "\n",
       "A matrix: 6 × 24 of type int\n",
       "\n",
       "| <!--/--> | AN1 | AN2 | AN3 | AN4 | AN5 | AN6 | AN7 | AN8 | AN9 | AN10 | ... | DE3 | DE4 | DE5 | DE6 | DE7 | DE8 | DE9 | DE10 | DE11 | DE12 |\n",
       "|---|---|---|---|---|---|---|---|---|---|---|---|---|---|---|---|---|---|---|---|---|---|\n",
       "| 2 |   5 |  2 | 19 | 15 |  5 | 16 |  5 | 17 | 18 |   5 | ... | 2 | 7 |  9 | 8 | 6 | 8 | 3 | 10 |  9 | 22 |\n",
       "| 158 |   0 |  8 |  0 |  2 |  0 |  0 |  0 |  0 |  0 |   3 | ... | 0 | 0 |  0 | 0 | 1 | 0 | 0 |  0 |  0 |  2 |\n",
       "| 163 |   0 |  0 |  0 |  0 |  0 |  0 |  0 |  0 |  1 |   0 | ... | 0 | 0 |  0 | 0 | 0 | 0 | 0 |  0 |  0 |  0 |\n",
       "| 195 |   0 |  1 |  0 |  0 |  0 |  0 |  1 |  0 |  0 |   0 | ... | 0 | 1 |  1 | 0 | 0 | 0 | 0 |  0 |  0 |  0 |\n",
       "| 196 |   0 |  0 |  0 |  0 |  0 |  0 |  0 |  1 |  0 |   0 | ... | 0 | 0 |  0 | 0 | 0 | 0 | 0 |  0 |  0 |  0 |\n",
       "| 199 | 139 | 35 |  6 | 15 | 62 | 72 | 35 | 11 | 42 | 213 | ... | 4 | 8 | 43 | 3 | 3 | 8 | 0 | 12 | 40 | 77 |\n",
       "\n"
      ],
      "text/plain": [
       "    AN1 AN2 AN3 AN4 AN5 AN6 AN7 AN8 AN9 AN10 ... DE3 DE4 DE5 DE6 DE7 DE8 DE9\n",
       "2     5  2  19  15   5  16   5  17  18    5  ... 2   7    9  8   6   8   3  \n",
       "158   0  8   0   2   0   0   0   0   0    3  ... 0   0    0  0   1   0   0  \n",
       "163   0  0   0   0   0   0   0   0   1    0  ... 0   0    0  0   0   0   0  \n",
       "195   0  1   0   0   0   0   1   0   0    0  ... 0   1    1  0   0   0   0  \n",
       "196   0  0   0   0   0   0   0   1   0    0  ... 0   0    0  0   0   0   0  \n",
       "199 139 35   6  15  62  72  35  11  42  213  ... 4   8   43  3   3   8   0  \n",
       "    DE10 DE11 DE12\n",
       "2   10    9   22  \n",
       "158  0    0    2  \n",
       "163  0    0    0  \n",
       "195  0    0    0  \n",
       "196  0    0    0  \n",
       "199 12   40   77  "
      ]
     },
     "metadata": {},
     "output_type": "display_data"
    }
   ],
   "source": [
    "count_tab <- as.matrix(read.table(\"tax_count.tsv\"), header = T, \n",
    "                           row.names = 1, check.names = F, sep = \"\\t\")\n",
    "head(count_tab)"
   ]
  },
  {
   "cell_type": "code",
   "execution_count": null,
   "id": "2c61adc5",
   "metadata": {},
   "outputs": [],
   "source": []
  },
  {
   "cell_type": "code",
   "execution_count": 5,
   "id": "f11651c3",
   "metadata": {},
   "outputs": [
    {
     "data": {
      "text/html": [
       "<table class=\"dataframe\">\n",
       "<caption>A matrix: 6 × 24 of type int</caption>\n",
       "<thead>\n",
       "\t<tr><th></th><th scope=col>AN1</th><th scope=col>AN2</th><th scope=col>AN3</th><th scope=col>AN4</th><th scope=col>AN5</th><th scope=col>AN6</th><th scope=col>AN7</th><th scope=col>AN8</th><th scope=col>AN9</th><th scope=col>AN10</th><th scope=col>...</th><th scope=col>DE3</th><th scope=col>DE4</th><th scope=col>DE5</th><th scope=col>DE6</th><th scope=col>DE7</th><th scope=col>DE8</th><th scope=col>DE9</th><th scope=col>DE10</th><th scope=col>DE11</th><th scope=col>DE12</th></tr>\n",
       "</thead>\n",
       "<tbody>\n",
       "\t<tr><th scope=row>2</th><td>  5</td><td> 2</td><td>19</td><td>15</td><td> 5</td><td>16</td><td> 5</td><td>17</td><td>18</td><td>  5</td><td>...</td><td>2</td><td>7</td><td> 9</td><td>8</td><td>6</td><td>8</td><td>3</td><td>10</td><td> 9</td><td>22</td></tr>\n",
       "\t<tr><th scope=row>158</th><td>  0</td><td> 8</td><td> 0</td><td> 2</td><td> 0</td><td> 0</td><td> 0</td><td> 0</td><td> 0</td><td>  3</td><td>...</td><td>0</td><td>0</td><td> 0</td><td>0</td><td>1</td><td>0</td><td>0</td><td> 0</td><td> 0</td><td> 2</td></tr>\n",
       "\t<tr><th scope=row>163</th><td>  0</td><td> 0</td><td> 0</td><td> 0</td><td> 0</td><td> 0</td><td> 0</td><td> 0</td><td> 1</td><td>  0</td><td>...</td><td>0</td><td>0</td><td> 0</td><td>0</td><td>0</td><td>0</td><td>0</td><td> 0</td><td> 0</td><td> 0</td></tr>\n",
       "\t<tr><th scope=row>195</th><td>  0</td><td> 1</td><td> 0</td><td> 0</td><td> 0</td><td> 0</td><td> 1</td><td> 0</td><td> 0</td><td>  0</td><td>...</td><td>0</td><td>1</td><td> 1</td><td>0</td><td>0</td><td>0</td><td>0</td><td> 0</td><td> 0</td><td> 0</td></tr>\n",
       "\t<tr><th scope=row>196</th><td>  0</td><td> 0</td><td> 0</td><td> 0</td><td> 0</td><td> 0</td><td> 0</td><td> 1</td><td> 0</td><td>  0</td><td>...</td><td>0</td><td>0</td><td> 0</td><td>0</td><td>0</td><td>0</td><td>0</td><td> 0</td><td> 0</td><td> 0</td></tr>\n",
       "\t<tr><th scope=row>199</th><td>139</td><td>35</td><td> 6</td><td>15</td><td>62</td><td>72</td><td>35</td><td>11</td><td>42</td><td>213</td><td>...</td><td>4</td><td>8</td><td>43</td><td>3</td><td>3</td><td>8</td><td>0</td><td>12</td><td>40</td><td>77</td></tr>\n",
       "</tbody>\n",
       "</table>\n"
      ],
      "text/latex": [
       "A matrix: 6 × 24 of type int\n",
       "\\begin{tabular}{r|lllllllllllllllllllll}\n",
       "  & AN1 & AN2 & AN3 & AN4 & AN5 & AN6 & AN7 & AN8 & AN9 & AN10 & ... & DE3 & DE4 & DE5 & DE6 & DE7 & DE8 & DE9 & DE10 & DE11 & DE12\\\\\n",
       "\\hline\n",
       "\t2 &   5 &  2 & 19 & 15 &  5 & 16 &  5 & 17 & 18 &   5 & ... & 2 & 7 &  9 & 8 & 6 & 8 & 3 & 10 &  9 & 22\\\\\n",
       "\t158 &   0 &  8 &  0 &  2 &  0 &  0 &  0 &  0 &  0 &   3 & ... & 0 & 0 &  0 & 0 & 1 & 0 & 0 &  0 &  0 &  2\\\\\n",
       "\t163 &   0 &  0 &  0 &  0 &  0 &  0 &  0 &  0 &  1 &   0 & ... & 0 & 0 &  0 & 0 & 0 & 0 & 0 &  0 &  0 &  0\\\\\n",
       "\t195 &   0 &  1 &  0 &  0 &  0 &  0 &  1 &  0 &  0 &   0 & ... & 0 & 1 &  1 & 0 & 0 & 0 & 0 &  0 &  0 &  0\\\\\n",
       "\t196 &   0 &  0 &  0 &  0 &  0 &  0 &  0 &  1 &  0 &   0 & ... & 0 & 0 &  0 & 0 & 0 & 0 & 0 &  0 &  0 &  0\\\\\n",
       "\t199 & 139 & 35 &  6 & 15 & 62 & 72 & 35 & 11 & 42 & 213 & ... & 4 & 8 & 43 & 3 & 3 & 8 & 0 & 12 & 40 & 77\\\\\n",
       "\\end{tabular}\n"
      ],
      "text/markdown": [
       "\n",
       "A matrix: 6 × 24 of type int\n",
       "\n",
       "| <!--/--> | AN1 | AN2 | AN3 | AN4 | AN5 | AN6 | AN7 | AN8 | AN9 | AN10 | ... | DE3 | DE4 | DE5 | DE6 | DE7 | DE8 | DE9 | DE10 | DE11 | DE12 |\n",
       "|---|---|---|---|---|---|---|---|---|---|---|---|---|---|---|---|---|---|---|---|---|---|\n",
       "| 2 |   5 |  2 | 19 | 15 |  5 | 16 |  5 | 17 | 18 |   5 | ... | 2 | 7 |  9 | 8 | 6 | 8 | 3 | 10 |  9 | 22 |\n",
       "| 158 |   0 |  8 |  0 |  2 |  0 |  0 |  0 |  0 |  0 |   3 | ... | 0 | 0 |  0 | 0 | 1 | 0 | 0 |  0 |  0 |  2 |\n",
       "| 163 |   0 |  0 |  0 |  0 |  0 |  0 |  0 |  0 |  1 |   0 | ... | 0 | 0 |  0 | 0 | 0 | 0 | 0 |  0 |  0 |  0 |\n",
       "| 195 |   0 |  1 |  0 |  0 |  0 |  0 |  1 |  0 |  0 |   0 | ... | 0 | 1 |  1 | 0 | 0 | 0 | 0 |  0 |  0 |  0 |\n",
       "| 196 |   0 |  0 |  0 |  0 |  0 |  0 |  0 |  1 |  0 |   0 | ... | 0 | 0 |  0 | 0 | 0 | 0 | 0 |  0 |  0 |  0 |\n",
       "| 199 | 139 | 35 |  6 | 15 | 62 | 72 | 35 | 11 | 42 | 213 | ... | 4 | 8 | 43 | 3 | 3 | 8 | 0 | 12 | 40 | 77 |\n",
       "\n"
      ],
      "text/plain": [
       "    AN1 AN2 AN3 AN4 AN5 AN6 AN7 AN8 AN9 AN10 ... DE3 DE4 DE5 DE6 DE7 DE8 DE9\n",
       "2     5  2  19  15   5  16   5  17  18    5  ... 2   7    9  8   6   8   3  \n",
       "158   0  8   0   2   0   0   0   0   0    3  ... 0   0    0  0   1   0   0  \n",
       "163   0  0   0   0   0   0   0   0   1    0  ... 0   0    0  0   0   0   0  \n",
       "195   0  1   0   0   0   0   1   0   0    0  ... 0   1    1  0   0   0   0  \n",
       "196   0  0   0   0   0   0   0   1   0    0  ... 0   0    0  0   0   0   0  \n",
       "199 139 35   6  15  62  72  35  11  42  213  ... 4   8   43  3   3   8   0  \n",
       "    DE10 DE11 DE12\n",
       "2   10    9   22  \n",
       "158  0    0    2  \n",
       "163  0    0    0  \n",
       "195  0    0    0  \n",
       "196  0    0    0  \n",
       "199 12   40   77  "
      ]
     },
     "metadata": {},
     "output_type": "display_data"
    }
   ],
   "source": [
    "count_tab <- as.matrix(read.table(\"tax_count.tsv\"), header = TRUE, \n",
    "                           row.names = 1, check.names = TRUE, sep = \"\\t\", rownames.force = TRUE, colnames.force = 1)\n",
    "head(count_tab)"
   ]
  },
  {
   "cell_type": "markdown",
   "id": "169068a6",
   "metadata": {},
   "source": [
    "# Taxonomy table"
   ]
  },
  {
   "cell_type": "code",
   "execution_count": 6,
   "id": "62942041",
   "metadata": {},
   "outputs": [],
   "source": [
    "tax_tab <- as.matrix(read.table(\"tax_table.tsv\", header=T,\n",
    "           row.names=1, check.names=F, sep=\"\\t\"))"
   ]
  },
  {
   "cell_type": "code",
   "execution_count": 7,
   "id": "bc567d05",
   "metadata": {},
   "outputs": [
    {
     "data": {
      "text/html": [
       "<table class=\"dataframe\">\n",
       "<caption>A matrix: 6 × 6 of type chr</caption>\n",
       "<thead>\n",
       "\t<tr><th></th><th scope=col>kingdom</th><th scope=col>phylum</th><th scope=col>class</th><th scope=col>order</th><th scope=col>family</th><th scope=col>genus</th></tr>\n",
       "</thead>\n",
       "<tbody>\n",
       "\t<tr><th scope=row>158</th><td>Bacteria</td><td>Spirochaetota </td><td>Spirochaetia         </td><td>Spirochaetales   </td><td>Treponemataceae   </td><td>Treponema    </td></tr>\n",
       "\t<tr><th scope=row>163</th><td>Bacteria</td><td>Spirochaetota </td><td>Spirochaetia         </td><td>Spirochaetales   </td><td>Treponemataceae   </td><td>Treponema    </td></tr>\n",
       "\t<tr><th scope=row>195</th><td>Bacteria</td><td>Pseudomonadota</td><td>Epsilonproteobacteria</td><td>Campylobacterales</td><td>Campylobacteraceae</td><td>Campylobacter</td></tr>\n",
       "\t<tr><th scope=row>196</th><td>Bacteria</td><td>Pseudomonadota</td><td>Epsilonproteobacteria</td><td>Campylobacterales</td><td>Campylobacteraceae</td><td>Campylobacter</td></tr>\n",
       "\t<tr><th scope=row>199</th><td>Bacteria</td><td>Pseudomonadota</td><td>Epsilonproteobacteria</td><td>Campylobacterales</td><td>Campylobacteraceae</td><td>Campylobacter</td></tr>\n",
       "\t<tr><th scope=row>200</th><td>Bacteria</td><td>Pseudomonadota</td><td>Epsilonproteobacteria</td><td>Campylobacterales</td><td>Campylobacteraceae</td><td>Campylobacter</td></tr>\n",
       "</tbody>\n",
       "</table>\n"
      ],
      "text/latex": [
       "A matrix: 6 × 6 of type chr\n",
       "\\begin{tabular}{r|llllll}\n",
       "  & kingdom & phylum & class & order & family & genus\\\\\n",
       "\\hline\n",
       "\t158 & Bacteria & Spirochaetota  & Spirochaetia          & Spirochaetales    & Treponemataceae    & Treponema    \\\\\n",
       "\t163 & Bacteria & Spirochaetota  & Spirochaetia          & Spirochaetales    & Treponemataceae    & Treponema    \\\\\n",
       "\t195 & Bacteria & Pseudomonadota & Epsilonproteobacteria & Campylobacterales & Campylobacteraceae & Campylobacter\\\\\n",
       "\t196 & Bacteria & Pseudomonadota & Epsilonproteobacteria & Campylobacterales & Campylobacteraceae & Campylobacter\\\\\n",
       "\t199 & Bacteria & Pseudomonadota & Epsilonproteobacteria & Campylobacterales & Campylobacteraceae & Campylobacter\\\\\n",
       "\t200 & Bacteria & Pseudomonadota & Epsilonproteobacteria & Campylobacterales & Campylobacteraceae & Campylobacter\\\\\n",
       "\\end{tabular}\n"
      ],
      "text/markdown": [
       "\n",
       "A matrix: 6 × 6 of type chr\n",
       "\n",
       "| <!--/--> | kingdom | phylum | class | order | family | genus |\n",
       "|---|---|---|---|---|---|---|\n",
       "| 158 | Bacteria | Spirochaetota  | Spirochaetia          | Spirochaetales    | Treponemataceae    | Treponema     |\n",
       "| 163 | Bacteria | Spirochaetota  | Spirochaetia          | Spirochaetales    | Treponemataceae    | Treponema     |\n",
       "| 195 | Bacteria | Pseudomonadota | Epsilonproteobacteria | Campylobacterales | Campylobacteraceae | Campylobacter |\n",
       "| 196 | Bacteria | Pseudomonadota | Epsilonproteobacteria | Campylobacterales | Campylobacteraceae | Campylobacter |\n",
       "| 199 | Bacteria | Pseudomonadota | Epsilonproteobacteria | Campylobacterales | Campylobacteraceae | Campylobacter |\n",
       "| 200 | Bacteria | Pseudomonadota | Epsilonproteobacteria | Campylobacterales | Campylobacteraceae | Campylobacter |\n",
       "\n"
      ],
      "text/plain": [
       "    kingdom  phylum         class                 order            \n",
       "158 Bacteria Spirochaetota  Spirochaetia          Spirochaetales   \n",
       "163 Bacteria Spirochaetota  Spirochaetia          Spirochaetales   \n",
       "195 Bacteria Pseudomonadota Epsilonproteobacteria Campylobacterales\n",
       "196 Bacteria Pseudomonadota Epsilonproteobacteria Campylobacterales\n",
       "199 Bacteria Pseudomonadota Epsilonproteobacteria Campylobacterales\n",
       "200 Bacteria Pseudomonadota Epsilonproteobacteria Campylobacterales\n",
       "    family             genus        \n",
       "158 Treponemataceae    Treponema    \n",
       "163 Treponemataceae    Treponema    \n",
       "195 Campylobacteraceae Campylobacter\n",
       "196 Campylobacteraceae Campylobacter\n",
       "199 Campylobacteraceae Campylobacter\n",
       "200 Campylobacteraceae Campylobacter"
      ]
     },
     "metadata": {},
     "output_type": "display_data"
    }
   ],
   "source": [
    "head(tax_tab)"
   ]
  },
  {
   "cell_type": "markdown",
   "id": "04a5d280",
   "metadata": {},
   "source": [
    "# DEseq STEP for Data normalization: \n",
    "> It is important to normalize the sequencing data to account for differences in sequencing depth or other technical factors that could impact the analysis."
   ]
  },
  {
   "cell_type": "code",
   "execution_count": 8,
   "id": "db871b3f",
   "metadata": {
    "scrolled": true
   },
   "outputs": [
    {
     "data": {
      "text/html": [
       "<table class=\"dataframe\">\n",
       "<caption>A matrix: 6 × 24 of type dbl</caption>\n",
       "<thead>\n",
       "\t<tr><th></th><th scope=col>AN1</th><th scope=col>AN2</th><th scope=col>AN3</th><th scope=col>AN4</th><th scope=col>AN5</th><th scope=col>AN6</th><th scope=col>AN7</th><th scope=col>AN8</th><th scope=col>AN9</th><th scope=col>AN10</th><th scope=col>...</th><th scope=col>DE3</th><th scope=col>DE4</th><th scope=col>DE5</th><th scope=col>DE6</th><th scope=col>DE7</th><th scope=col>DE8</th><th scope=col>DE9</th><th scope=col>DE10</th><th scope=col>DE11</th><th scope=col>DE12</th></tr>\n",
       "</thead>\n",
       "<tbody>\n",
       "\t<tr><th scope=row>2</th><td> 2.5075025</td><td> 1.0714041</td><td> 4.3542479</td><td> 4.0939615</td><td> 2.6641481</td><td> 4.0153453</td><td> 2.3938205</td><td> 4.0509291</td><td> 4.1139750</td><td> 2.0552000</td><td>...</td><td> 1.7721710</td><td> 3.1229974</td><td> 3.4114441</td><td> 3.6114868</td><td> 3.0582571</td><td> 3.2579376</td><td> 2.1215848</td><td> 3.5501140</td><td> 3.4114441</td><td> 4.1906529</td></tr>\n",
       "\t<tr><th scope=row>158</th><td>-0.9661316</td><td> 2.5330929</td><td>-0.9661316</td><td> 1.6234736</td><td>-0.9661316</td><td>-0.9661316</td><td>-0.9661316</td><td>-0.9661316</td><td>-0.9661316</td><td> 1.5104388</td><td>...</td><td>-0.9661316</td><td>-0.9661316</td><td>-0.9661316</td><td>-0.9661316</td><td> 1.0862689</td><td>-0.9661316</td><td>-0.9661316</td><td>-0.9661316</td><td>-0.9661316</td><td> 1.3142116</td></tr>\n",
       "\t<tr><th scope=row>163</th><td>-0.9661316</td><td>-0.9661316</td><td>-0.9661316</td><td>-0.9661316</td><td>-0.9661316</td><td>-0.9661316</td><td>-0.9661316</td><td>-0.9661316</td><td> 0.8340654</td><td>-0.9661316</td><td>...</td><td>-0.9661316</td><td>-0.9661316</td><td>-0.9661316</td><td>-0.9661316</td><td>-0.9661316</td><td>-0.9661316</td><td>-0.9661316</td><td>-0.9661316</td><td>-0.9661316</td><td>-0.9661316</td></tr>\n",
       "\t<tr><th scope=row>195</th><td>-0.9661316</td><td> 0.5295039</td><td>-0.9661316</td><td>-0.9661316</td><td>-0.9661316</td><td>-0.9661316</td><td> 0.7895039</td><td>-0.9661316</td><td>-0.9661316</td><td>-0.9661316</td><td>...</td><td>-0.9661316</td><td> 0.9964105</td><td> 0.9718751</td><td>-0.9661316</td><td>-0.9661316</td><td>-0.9661316</td><td>-0.9661316</td><td>-0.9661316</td><td>-0.9661316</td><td>-0.9661316</td></tr>\n",
       "\t<tr><th scope=row>196</th><td>-0.9661316</td><td>-0.9661316</td><td>-0.9661316</td><td>-0.9661316</td><td>-0.9661316</td><td>-0.9661316</td><td>-0.9661316</td><td> 0.8426589</td><td>-0.9661316</td><td>-0.9661316</td><td>...</td><td>-0.9661316</td><td>-0.9661316</td><td>-0.9661316</td><td>-0.9661316</td><td>-0.9661316</td><td>-0.9661316</td><td>-0.9661316</td><td>-0.9661316</td><td>-0.9661316</td><td>-0.9661316</td></tr>\n",
       "\t<tr><th scope=row>199</th><td> 7.0435511</td><td> 4.4629678</td><td> 2.8332175</td><td> 4.0939615</td><td> 6.0754400</td><td> 6.1138654</td><td> 4.9535597</td><td> 3.4689523</td><td> 5.2878398</td><td> 7.0995248</td><td>...</td><td> 2.5648011</td><td> 3.2954234</td><td> 5.5570657</td><td> 2.3731774</td><td> 2.2128538</td><td> 3.2579376</td><td>-0.9661316</td><td> 3.7928054</td><td> 5.4550538</td><td> 5.9401258</td></tr>\n",
       "</tbody>\n",
       "</table>\n"
      ],
      "text/latex": [
       "A matrix: 6 × 24 of type dbl\n",
       "\\begin{tabular}{r|lllllllllllllllllllll}\n",
       "  & AN1 & AN2 & AN3 & AN4 & AN5 & AN6 & AN7 & AN8 & AN9 & AN10 & ... & DE3 & DE4 & DE5 & DE6 & DE7 & DE8 & DE9 & DE10 & DE11 & DE12\\\\\n",
       "\\hline\n",
       "\t2 &  2.5075025 &  1.0714041 &  4.3542479 &  4.0939615 &  2.6641481 &  4.0153453 &  2.3938205 &  4.0509291 &  4.1139750 &  2.0552000 & ... &  1.7721710 &  3.1229974 &  3.4114441 &  3.6114868 &  3.0582571 &  3.2579376 &  2.1215848 &  3.5501140 &  3.4114441 &  4.1906529\\\\\n",
       "\t158 & -0.9661316 &  2.5330929 & -0.9661316 &  1.6234736 & -0.9661316 & -0.9661316 & -0.9661316 & -0.9661316 & -0.9661316 &  1.5104388 & ... & -0.9661316 & -0.9661316 & -0.9661316 & -0.9661316 &  1.0862689 & -0.9661316 & -0.9661316 & -0.9661316 & -0.9661316 &  1.3142116\\\\\n",
       "\t163 & -0.9661316 & -0.9661316 & -0.9661316 & -0.9661316 & -0.9661316 & -0.9661316 & -0.9661316 & -0.9661316 &  0.8340654 & -0.9661316 & ... & -0.9661316 & -0.9661316 & -0.9661316 & -0.9661316 & -0.9661316 & -0.9661316 & -0.9661316 & -0.9661316 & -0.9661316 & -0.9661316\\\\\n",
       "\t195 & -0.9661316 &  0.5295039 & -0.9661316 & -0.9661316 & -0.9661316 & -0.9661316 &  0.7895039 & -0.9661316 & -0.9661316 & -0.9661316 & ... & -0.9661316 &  0.9964105 &  0.9718751 & -0.9661316 & -0.9661316 & -0.9661316 & -0.9661316 & -0.9661316 & -0.9661316 & -0.9661316\\\\\n",
       "\t196 & -0.9661316 & -0.9661316 & -0.9661316 & -0.9661316 & -0.9661316 & -0.9661316 & -0.9661316 &  0.8426589 & -0.9661316 & -0.9661316 & ... & -0.9661316 & -0.9661316 & -0.9661316 & -0.9661316 & -0.9661316 & -0.9661316 & -0.9661316 & -0.9661316 & -0.9661316 & -0.9661316\\\\\n",
       "\t199 &  7.0435511 &  4.4629678 &  2.8332175 &  4.0939615 &  6.0754400 &  6.1138654 &  4.9535597 &  3.4689523 &  5.2878398 &  7.0995248 & ... &  2.5648011 &  3.2954234 &  5.5570657 &  2.3731774 &  2.2128538 &  3.2579376 & -0.9661316 &  3.7928054 &  5.4550538 &  5.9401258\\\\\n",
       "\\end{tabular}\n"
      ],
      "text/markdown": [
       "\n",
       "A matrix: 6 × 24 of type dbl\n",
       "\n",
       "| <!--/--> | AN1 | AN2 | AN3 | AN4 | AN5 | AN6 | AN7 | AN8 | AN9 | AN10 | ... | DE3 | DE4 | DE5 | DE6 | DE7 | DE8 | DE9 | DE10 | DE11 | DE12 |\n",
       "|---|---|---|---|---|---|---|---|---|---|---|---|---|---|---|---|---|---|---|---|---|---|\n",
       "| 2 |  2.5075025 |  1.0714041 |  4.3542479 |  4.0939615 |  2.6641481 |  4.0153453 |  2.3938205 |  4.0509291 |  4.1139750 |  2.0552000 | ... |  1.7721710 |  3.1229974 |  3.4114441 |  3.6114868 |  3.0582571 |  3.2579376 |  2.1215848 |  3.5501140 |  3.4114441 |  4.1906529 |\n",
       "| 158 | -0.9661316 |  2.5330929 | -0.9661316 |  1.6234736 | -0.9661316 | -0.9661316 | -0.9661316 | -0.9661316 | -0.9661316 |  1.5104388 | ... | -0.9661316 | -0.9661316 | -0.9661316 | -0.9661316 |  1.0862689 | -0.9661316 | -0.9661316 | -0.9661316 | -0.9661316 |  1.3142116 |\n",
       "| 163 | -0.9661316 | -0.9661316 | -0.9661316 | -0.9661316 | -0.9661316 | -0.9661316 | -0.9661316 | -0.9661316 |  0.8340654 | -0.9661316 | ... | -0.9661316 | -0.9661316 | -0.9661316 | -0.9661316 | -0.9661316 | -0.9661316 | -0.9661316 | -0.9661316 | -0.9661316 | -0.9661316 |\n",
       "| 195 | -0.9661316 |  0.5295039 | -0.9661316 | -0.9661316 | -0.9661316 | -0.9661316 |  0.7895039 | -0.9661316 | -0.9661316 | -0.9661316 | ... | -0.9661316 |  0.9964105 |  0.9718751 | -0.9661316 | -0.9661316 | -0.9661316 | -0.9661316 | -0.9661316 | -0.9661316 | -0.9661316 |\n",
       "| 196 | -0.9661316 | -0.9661316 | -0.9661316 | -0.9661316 | -0.9661316 | -0.9661316 | -0.9661316 |  0.8426589 | -0.9661316 | -0.9661316 | ... | -0.9661316 | -0.9661316 | -0.9661316 | -0.9661316 | -0.9661316 | -0.9661316 | -0.9661316 | -0.9661316 | -0.9661316 | -0.9661316 |\n",
       "| 199 |  7.0435511 |  4.4629678 |  2.8332175 |  4.0939615 |  6.0754400 |  6.1138654 |  4.9535597 |  3.4689523 |  5.2878398 |  7.0995248 | ... |  2.5648011 |  3.2954234 |  5.5570657 |  2.3731774 |  2.2128538 |  3.2579376 | -0.9661316 |  3.7928054 |  5.4550538 |  5.9401258 |\n",
       "\n"
      ],
      "text/plain": [
       "    AN1        AN2        AN3        AN4        AN5        AN6       \n",
       "2    2.5075025  1.0714041  4.3542479  4.0939615  2.6641481  4.0153453\n",
       "158 -0.9661316  2.5330929 -0.9661316  1.6234736 -0.9661316 -0.9661316\n",
       "163 -0.9661316 -0.9661316 -0.9661316 -0.9661316 -0.9661316 -0.9661316\n",
       "195 -0.9661316  0.5295039 -0.9661316 -0.9661316 -0.9661316 -0.9661316\n",
       "196 -0.9661316 -0.9661316 -0.9661316 -0.9661316 -0.9661316 -0.9661316\n",
       "199  7.0435511  4.4629678  2.8332175  4.0939615  6.0754400  6.1138654\n",
       "    AN7        AN8        AN9        AN10       ... DE3        DE4       \n",
       "2    2.3938205  4.0509291  4.1139750  2.0552000 ...  1.7721710  3.1229974\n",
       "158 -0.9661316 -0.9661316 -0.9661316  1.5104388 ... -0.9661316 -0.9661316\n",
       "163 -0.9661316 -0.9661316  0.8340654 -0.9661316 ... -0.9661316 -0.9661316\n",
       "195  0.7895039 -0.9661316 -0.9661316 -0.9661316 ... -0.9661316  0.9964105\n",
       "196 -0.9661316  0.8426589 -0.9661316 -0.9661316 ... -0.9661316 -0.9661316\n",
       "199  4.9535597  3.4689523  5.2878398  7.0995248 ...  2.5648011  3.2954234\n",
       "    DE5        DE6        DE7        DE8        DE9        DE10      \n",
       "2    3.4114441  3.6114868  3.0582571  3.2579376  2.1215848  3.5501140\n",
       "158 -0.9661316 -0.9661316  1.0862689 -0.9661316 -0.9661316 -0.9661316\n",
       "163 -0.9661316 -0.9661316 -0.9661316 -0.9661316 -0.9661316 -0.9661316\n",
       "195  0.9718751 -0.9661316 -0.9661316 -0.9661316 -0.9661316 -0.9661316\n",
       "196 -0.9661316 -0.9661316 -0.9661316 -0.9661316 -0.9661316 -0.9661316\n",
       "199  5.5570657  2.3731774  2.2128538  3.2579376 -0.9661316  3.7928054\n",
       "    DE11       DE12      \n",
       "2    3.4114441  4.1906529\n",
       "158 -0.9661316  1.3142116\n",
       "163 -0.9661316 -0.9661316\n",
       "195 -0.9661316 -0.9661316\n",
       "196 -0.9661316 -0.9661316\n",
       "199  5.4550538  5.9401258"
      ]
     },
     "metadata": {},
     "output_type": "display_data"
    }
   ],
   "source": [
    "deseq_counts <- DESeqDataSetFromMatrix(count_tab, colData = sample_info_tab, design = ~1)\n",
    "deseq_counts <- estimateSizeFactors(deseq_counts, type = \"poscounts\")\n",
    "deseq_counts_vst <- varianceStabilizingTransformation(deseq_counts)\n",
    "vst_trans_count_tab <- assay(deseq_counts_vst)\n",
    "head(vst_trans_count_tab)"
   ]
  },
  {
   "cell_type": "code",
   "execution_count": 9,
   "id": "18f30cd7",
   "metadata": {
    "scrolled": true
   },
   "outputs": [
    {
     "data": {
      "image/png": "[encoded data removed]",
      "text/plain": [
       "Plot with title \"Dendogram\""
      ]
     },
     "metadata": {
      "image/png": {
       "height": 420,
       "width": 420
      }
     },
     "output_type": "display_data"
    }
   ],
   "source": [
    "euc_dist <- dist(t(vst_trans_count_tab))\n",
    "euc_clust <- hclust(euc_dist, method=\"ward.D2\")\n",
    "euc_dend <- as.dendrogram(euc_clust, hang=0.1)\n",
    "dend_cols <- as.character(sample_info_tab$color[order.dendrogram(euc_dend)])\n",
    "labels_colors(euc_dend) <- dend_cols\n",
    "plot(euc_dend, main=\"Dendogram\", ylab=\"VST Euc. dist.\")"
   ]
  },
  {
   "cell_type": "markdown",
   "id": "a54d019b",
   "metadata": {},
   "source": [
    "# Phyloseq for PCOa visualization\n",
    "  ## Sample Metadata for Phyloseq "
   ]
  },
  {
   "cell_type": "markdown",
   "id": "428b64cc",
   "metadata": {},
   "source": [
    "- OTU TABLE\n",
    "- SAMPLE DATA\n",
    "- PHYLOSEQ OBJECT"
   ]
  },
  {
   "cell_type": "code",
   "execution_count": 10,
   "id": "cbf5fc37",
   "metadata": {
    "scrolled": false
   },
   "outputs": [],
   "source": [
    "vst_count_phy <- otu_table(vst_trans_count_tab, taxa_are_rows=T)\n",
    "sample_info_tab_phy <- sample_data(sample_info_tab)\n",
    "vst_physeq <- phyloseq(vst_count_phy, sample_info_tab_phy)"
   ]
  },
  {
   "cell_type": "code",
   "execution_count": 11,
   "id": "ded5058e",
   "metadata": {},
   "outputs": [],
   "source": [
    "vst_pcoa <- ordinate(vst_physeq, method=\"MDS\", distance=\"euclidean\")\n",
    "eigen_vals <- vst_pcoa$values$Eigenvalues "
   ]
  },
  {
   "cell_type": "code",
   "execution_count": 12,
   "id": "51840ab7",
   "metadata": {},
   "outputs": [],
   "source": [
    "write.table(vst_pcoa$vectors, \"MDS.tab\")\n",
    "write.table(vst_pcoa$values, \"MDS_values.tab\")"
   ]
  },
  {
   "cell_type": "markdown",
   "id": "2a7691ac",
   "metadata": {},
   "source": [
    "# pcoa visuatization"
   ]
  },
  {
   "cell_type": "code",
   "execution_count": 13,
   "id": "8d8f83c9",
   "metadata": {
    "scrolled": true
   },
   "outputs": [
    {
     "data": {
      "image/png": "[encoded data removed]",
      "text/plain": [
       "plot without title"
      ]
     },
     "metadata": {
      "image/png": {
       "height": 420,
       "width": 420
      }
     },
     "output_type": "display_data"
    }
   ],
   "source": [
    "pcoa <- plot_ordination(vst_physeq, vst_pcoa, color=\"TYPE\") + \n",
    "  geom_point(size=3) + labs(col=\"TYPE\") + \n",
    "  geom_text(aes(label=rownames(sample_info_tab_phy), hjust=+0.2, vjust=-0.6)) + \n",
    "  coord_fixed(sqrt(eigen_vals[2]/eigen_vals[1])) + ggtitle(\"MDS\") + \n",
    "      scale_color_manual(values=unique(sample_info_tab$COLOUR[order(sample_info_tab$COLOUR)])) + \n",
    "  theme(legend.text = element_text(size=10))\n",
    "pcoa"
   ]
  },
  {
   "cell_type": "markdown",
   "id": "a8321ab2",
   "metadata": {},
   "source": [
    "### Diversity visualization "
   ]
  },
  {
   "cell_type": "code",
   "execution_count": 14,
   "id": "4969e069",
   "metadata": {},
   "outputs": [],
   "source": [
    "count_tab_phy <- otu_table(count_tab, taxa_are_rows=T)"
   ]
  },
  {
   "cell_type": "code",
   "execution_count": 15,
   "id": "5c0590b7",
   "metadata": {},
   "outputs": [],
   "source": [
    "tax_tab_phy <- tax_table(tax_tab)"
   ]
  },
  {
   "cell_type": "code",
   "execution_count": 16,
   "id": "6b8d3a7f",
   "metadata": {},
   "outputs": [],
   "source": [
    "ASV_physeq <- phyloseq(count_tab_phy, tax_tab_phy, sample_info_tab_phy)"
   ]
  },
  {
   "cell_type": "code",
   "execution_count": 17,
   "id": "cc7eeaa2",
   "metadata": {
    "scrolled": true
   },
   "outputs": [
    {
     "data": {
      "text/html": [
       "<table class=\"dataframe\">\n",
       "<caption>A otu_table: 6 × 24 of type int</caption>\n",
       "<thead>\n",
       "\t<tr><th></th><th scope=col>AN1</th><th scope=col>AN2</th><th scope=col>AN3</th><th scope=col>AN4</th><th scope=col>AN5</th><th scope=col>AN6</th><th scope=col>AN7</th><th scope=col>AN8</th><th scope=col>AN9</th><th scope=col>AN10</th><th scope=col>...</th><th scope=col>DE3</th><th scope=col>DE4</th><th scope=col>DE5</th><th scope=col>DE6</th><th scope=col>DE7</th><th scope=col>DE8</th><th scope=col>DE9</th><th scope=col>DE10</th><th scope=col>DE11</th><th scope=col>DE12</th></tr>\n",
       "</thead>\n",
       "<tbody>\n",
       "\t<tr><th scope=row>2</th><td>  5</td><td> 2</td><td>19</td><td>15</td><td> 5</td><td>16</td><td> 5</td><td>17</td><td>18</td><td>  5</td><td>...</td><td>2</td><td>7</td><td> 9</td><td>8</td><td>6</td><td>8</td><td>3</td><td>10</td><td> 9</td><td>22</td></tr>\n",
       "\t<tr><th scope=row>158</th><td>  0</td><td> 8</td><td> 0</td><td> 2</td><td> 0</td><td> 0</td><td> 0</td><td> 0</td><td> 0</td><td>  3</td><td>...</td><td>0</td><td>0</td><td> 0</td><td>0</td><td>1</td><td>0</td><td>0</td><td> 0</td><td> 0</td><td> 2</td></tr>\n",
       "\t<tr><th scope=row>163</th><td>  0</td><td> 0</td><td> 0</td><td> 0</td><td> 0</td><td> 0</td><td> 0</td><td> 0</td><td> 1</td><td>  0</td><td>...</td><td>0</td><td>0</td><td> 0</td><td>0</td><td>0</td><td>0</td><td>0</td><td> 0</td><td> 0</td><td> 0</td></tr>\n",
       "\t<tr><th scope=row>195</th><td>  0</td><td> 1</td><td> 0</td><td> 0</td><td> 0</td><td> 0</td><td> 1</td><td> 0</td><td> 0</td><td>  0</td><td>...</td><td>0</td><td>1</td><td> 1</td><td>0</td><td>0</td><td>0</td><td>0</td><td> 0</td><td> 0</td><td> 0</td></tr>\n",
       "\t<tr><th scope=row>196</th><td>  0</td><td> 0</td><td> 0</td><td> 0</td><td> 0</td><td> 0</td><td> 0</td><td> 1</td><td> 0</td><td>  0</td><td>...</td><td>0</td><td>0</td><td> 0</td><td>0</td><td>0</td><td>0</td><td>0</td><td> 0</td><td> 0</td><td> 0</td></tr>\n",
       "\t<tr><th scope=row>199</th><td>139</td><td>35</td><td> 6</td><td>15</td><td>62</td><td>72</td><td>35</td><td>11</td><td>42</td><td>213</td><td>...</td><td>4</td><td>8</td><td>43</td><td>3</td><td>3</td><td>8</td><td>0</td><td>12</td><td>40</td><td>77</td></tr>\n",
       "</tbody>\n",
       "</table>\n"
      ],
      "text/latex": [
       "A otu\\_table: 6 × 24 of type int\n",
       "\\begin{tabular}{r|lllllllllllllllllllll}\n",
       "  & AN1 & AN2 & AN3 & AN4 & AN5 & AN6 & AN7 & AN8 & AN9 & AN10 & ... & DE3 & DE4 & DE5 & DE6 & DE7 & DE8 & DE9 & DE10 & DE11 & DE12\\\\\n",
       "\\hline\n",
       "\t2 &   5 &  2 & 19 & 15 &  5 & 16 &  5 & 17 & 18 &   5 & ... & 2 & 7 &  9 & 8 & 6 & 8 & 3 & 10 &  9 & 22\\\\\n",
       "\t158 &   0 &  8 &  0 &  2 &  0 &  0 &  0 &  0 &  0 &   3 & ... & 0 & 0 &  0 & 0 & 1 & 0 & 0 &  0 &  0 &  2\\\\\n",
       "\t163 &   0 &  0 &  0 &  0 &  0 &  0 &  0 &  0 &  1 &   0 & ... & 0 & 0 &  0 & 0 & 0 & 0 & 0 &  0 &  0 &  0\\\\\n",
       "\t195 &   0 &  1 &  0 &  0 &  0 &  0 &  1 &  0 &  0 &   0 & ... & 0 & 1 &  1 & 0 & 0 & 0 & 0 &  0 &  0 &  0\\\\\n",
       "\t196 &   0 &  0 &  0 &  0 &  0 &  0 &  0 &  1 &  0 &   0 & ... & 0 & 0 &  0 & 0 & 0 & 0 & 0 &  0 &  0 &  0\\\\\n",
       "\t199 & 139 & 35 &  6 & 15 & 62 & 72 & 35 & 11 & 42 & 213 & ... & 4 & 8 & 43 & 3 & 3 & 8 & 0 & 12 & 40 & 77\\\\\n",
       "\\end{tabular}\n"
      ],
      "text/markdown": [
       "\n",
       "A otu_table: 6 × 24 of type int\n",
       "\n",
       "| <!--/--> | AN1 | AN2 | AN3 | AN4 | AN5 | AN6 | AN7 | AN8 | AN9 | AN10 | ... | DE3 | DE4 | DE5 | DE6 | DE7 | DE8 | DE9 | DE10 | DE11 | DE12 |\n",
       "|---|---|---|---|---|---|---|---|---|---|---|---|---|---|---|---|---|---|---|---|---|---|\n",
       "| 2 |   5 |  2 | 19 | 15 |  5 | 16 |  5 | 17 | 18 |   5 | ... | 2 | 7 |  9 | 8 | 6 | 8 | 3 | 10 |  9 | 22 |\n",
       "| 158 |   0 |  8 |  0 |  2 |  0 |  0 |  0 |  0 |  0 |   3 | ... | 0 | 0 |  0 | 0 | 1 | 0 | 0 |  0 |  0 |  2 |\n",
       "| 163 |   0 |  0 |  0 |  0 |  0 |  0 |  0 |  0 |  1 |   0 | ... | 0 | 0 |  0 | 0 | 0 | 0 | 0 |  0 |  0 |  0 |\n",
       "| 195 |   0 |  1 |  0 |  0 |  0 |  0 |  1 |  0 |  0 |   0 | ... | 0 | 1 |  1 | 0 | 0 | 0 | 0 |  0 |  0 |  0 |\n",
       "| 196 |   0 |  0 |  0 |  0 |  0 |  0 |  0 |  1 |  0 |   0 | ... | 0 | 0 |  0 | 0 | 0 | 0 | 0 |  0 |  0 |  0 |\n",
       "| 199 | 139 | 35 |  6 | 15 | 62 | 72 | 35 | 11 | 42 | 213 | ... | 4 | 8 | 43 | 3 | 3 | 8 | 0 | 12 | 40 | 77 |\n",
       "\n"
      ],
      "text/plain": [
       "    AN1 AN2 AN3 AN4 AN5 AN6 AN7 AN8 AN9 AN10 ... DE3 DE4 DE5 DE6 DE7 DE8 DE9\n",
       "2     5  2  19  15   5  16   5  17  18    5  ... 2   7    9  8   6   8   3  \n",
       "158   0  8   0   2   0   0   0   0   0    3  ... 0   0    0  0   1   0   0  \n",
       "163   0  0   0   0   0   0   0   0   1    0  ... 0   0    0  0   0   0   0  \n",
       "195   0  1   0   0   0   0   1   0   0    0  ... 0   1    1  0   0   0   0  \n",
       "196   0  0   0   0   0   0   0   1   0    0  ... 0   0    0  0   0   0   0  \n",
       "199 139 35   6  15  62  72  35  11  42  213  ... 4   8   43  3   3   8   0  \n",
       "    DE10 DE11 DE12\n",
       "2   10    9   22  \n",
       "158  0    0    2  \n",
       "163  0    0    0  \n",
       "195  0    0    0  \n",
       "196  0    0    0  \n",
       "199 12   40   77  "
      ]
     },
     "metadata": {},
     "output_type": "display_data"
    },
    {
     "data": {
      "text/html": [
       "<table class=\"dataframe\">\n",
       "<caption>A taxonomyTable: 6 × 6 of type chr</caption>\n",
       "<thead>\n",
       "\t<tr><th></th><th scope=col>kingdom</th><th scope=col>phylum</th><th scope=col>class</th><th scope=col>order</th><th scope=col>family</th><th scope=col>genus</th></tr>\n",
       "</thead>\n",
       "<tbody>\n",
       "\t<tr><th scope=row>158</th><td>Bacteria</td><td>Spirochaetota </td><td>Spirochaetia         </td><td>Spirochaetales   </td><td>Treponemataceae   </td><td>Treponema    </td></tr>\n",
       "\t<tr><th scope=row>163</th><td>Bacteria</td><td>Spirochaetota </td><td>Spirochaetia         </td><td>Spirochaetales   </td><td>Treponemataceae   </td><td>Treponema    </td></tr>\n",
       "\t<tr><th scope=row>195</th><td>Bacteria</td><td>Pseudomonadota</td><td>Epsilonproteobacteria</td><td>Campylobacterales</td><td>Campylobacteraceae</td><td>Campylobacter</td></tr>\n",
       "\t<tr><th scope=row>196</th><td>Bacteria</td><td>Pseudomonadota</td><td>Epsilonproteobacteria</td><td>Campylobacterales</td><td>Campylobacteraceae</td><td>Campylobacter</td></tr>\n",
       "\t<tr><th scope=row>199</th><td>Bacteria</td><td>Pseudomonadota</td><td>Epsilonproteobacteria</td><td>Campylobacterales</td><td>Campylobacteraceae</td><td>Campylobacter</td></tr>\n",
       "\t<tr><th scope=row>200</th><td>Bacteria</td><td>Pseudomonadota</td><td>Epsilonproteobacteria</td><td>Campylobacterales</td><td>Campylobacteraceae</td><td>Campylobacter</td></tr>\n",
       "</tbody>\n",
       "</table>\n"
      ],
      "text/latex": [
       "A taxonomyTable: 6 × 6 of type chr\n",
       "\\begin{tabular}{r|llllll}\n",
       "  & kingdom & phylum & class & order & family & genus\\\\\n",
       "\\hline\n",
       "\t158 & Bacteria & Spirochaetota  & Spirochaetia          & Spirochaetales    & Treponemataceae    & Treponema    \\\\\n",
       "\t163 & Bacteria & Spirochaetota  & Spirochaetia          & Spirochaetales    & Treponemataceae    & Treponema    \\\\\n",
       "\t195 & Bacteria & Pseudomonadota & Epsilonproteobacteria & Campylobacterales & Campylobacteraceae & Campylobacter\\\\\n",
       "\t196 & Bacteria & Pseudomonadota & Epsilonproteobacteria & Campylobacterales & Campylobacteraceae & Campylobacter\\\\\n",
       "\t199 & Bacteria & Pseudomonadota & Epsilonproteobacteria & Campylobacterales & Campylobacteraceae & Campylobacter\\\\\n",
       "\t200 & Bacteria & Pseudomonadota & Epsilonproteobacteria & Campylobacterales & Campylobacteraceae & Campylobacter\\\\\n",
       "\\end{tabular}\n"
      ],
      "text/markdown": [
       "\n",
       "A taxonomyTable: 6 × 6 of type chr\n",
       "\n",
       "| <!--/--> | kingdom | phylum | class | order | family | genus |\n",
       "|---|---|---|---|---|---|---|\n",
       "| 158 | Bacteria | Spirochaetota  | Spirochaetia          | Spirochaetales    | Treponemataceae    | Treponema     |\n",
       "| 163 | Bacteria | Spirochaetota  | Spirochaetia          | Spirochaetales    | Treponemataceae    | Treponema     |\n",
       "| 195 | Bacteria | Pseudomonadota | Epsilonproteobacteria | Campylobacterales | Campylobacteraceae | Campylobacter |\n",
       "| 196 | Bacteria | Pseudomonadota | Epsilonproteobacteria | Campylobacterales | Campylobacteraceae | Campylobacter |\n",
       "| 199 | Bacteria | Pseudomonadota | Epsilonproteobacteria | Campylobacterales | Campylobacteraceae | Campylobacter |\n",
       "| 200 | Bacteria | Pseudomonadota | Epsilonproteobacteria | Campylobacterales | Campylobacteraceae | Campylobacter |\n",
       "\n"
      ],
      "text/plain": [
       "    kingdom  phylum         class                 order            \n",
       "158 Bacteria Spirochaetota  Spirochaetia          Spirochaetales   \n",
       "163 Bacteria Spirochaetota  Spirochaetia          Spirochaetales   \n",
       "195 Bacteria Pseudomonadota Epsilonproteobacteria Campylobacterales\n",
       "196 Bacteria Pseudomonadota Epsilonproteobacteria Campylobacterales\n",
       "199 Bacteria Pseudomonadota Epsilonproteobacteria Campylobacterales\n",
       "200 Bacteria Pseudomonadota Epsilonproteobacteria Campylobacterales\n",
       "    family             genus        \n",
       "158 Treponemataceae    Treponema    \n",
       "163 Treponemataceae    Treponema    \n",
       "195 Campylobacteraceae Campylobacter\n",
       "196 Campylobacteraceae Campylobacter\n",
       "199 Campylobacteraceae Campylobacter\n",
       "200 Campylobacteraceae Campylobacter"
      ]
     },
     "metadata": {},
     "output_type": "display_data"
    },
    {
     "data": {
      "text/plain": [
       "phyloseq-class experiment-level object\n",
       "otu_table()   OTU Table:         [ 655 taxa and 24 samples ]\n",
       "sample_data() Sample Data:       [ 24 samples by 4 sample variables ]\n",
       "tax_table()   Taxonomy Table:    [ 655 taxa by 6 taxonomic ranks ]"
      ]
     },
     "metadata": {},
     "output_type": "display_data"
    }
   ],
   "source": [
    "head(count_tab_phy)\n",
    "head(tax_tab_phy)\n",
    "ASV_physeq"
   ]
  },
  {
   "cell_type": "code",
   "execution_count": 20,
   "id": "2663941d",
   "metadata": {
    "scrolled": false
   },
   "outputs": [
    {
     "data": {
      "image/png": "[encoded data removed]",
      "text/plain": [
       "plot without title"
      ]
     },
     "metadata": {
      "image/png": {
       "height": 420,
       "width": 420
      }
     },
     "output_type": "display_data"
    }
   ],
   "source": [
    "richness <- plot_richness(ASV_physeq,x = \"TYPE\" , color=\"TYPE\", measures=c(\"Chao1\", \"Shannon\", \"Simpson\")) + geom_boxplot()\n",
    "richness"
   ]
  },
  {
   "cell_type": "markdown",
   "id": "a2f8a024",
   "metadata": {},
   "source": [
    "## stack plot "
   ]
  },
  {
   "cell_type": "code",
   "execution_count": 28,
   "id": "150631f4",
   "metadata": {},
   "outputs": [],
   "source": [
    "clases_counts_tab <- otu_table(tax_glom(ASV_physeq, taxrank=\"class\"))\n",
    "clases_tax_vec <- as.vector(tax_table(tax_glom(ASV_physeq, taxrank=\"class\"))[,3])\n",
    "rownames(clases_counts_tab) <- as.vector(clases_tax_vec)"
   ]
  },
  {
   "cell_type": "code",
   "execution_count": 29,
   "id": "0ee2ef9e",
   "metadata": {},
   "outputs": [],
   "source": [
    "unclassified2_tax_counts <- colSums(count_tab) - colSums(clases_counts_tab)\n",
    "clases_and_unidentified_counts_tab <- rbind(clases_counts_tab, \"Unclassified\"=unclassified2_tax_counts)\n",
    "clases_taxa_counts_tab <- clases_and_unidentified_counts_tab"
   ]
  },
  {
   "cell_type": "code",
   "execution_count": 30,
   "id": "5cb4fe56",
   "metadata": {},
   "outputs": [
    {
     "data": {
      "text/html": [
       "TRUE"
      ],
      "text/latex": [
       "TRUE"
      ],
      "text/markdown": [
       "TRUE"
      ],
      "text/plain": [
       "[1] TRUE"
      ]
     },
     "metadata": {},
     "output_type": "display_data"
    }
   ],
   "source": [
    "identical(colSums(clases_taxa_counts_tab), colSums(count_tab))"
   ]
  },
  {
   "cell_type": "code",
   "execution_count": 31,
   "id": "921b5464",
   "metadata": {},
   "outputs": [],
   "source": [
    "clases_taxa_proportions_tab <- apply(clases_taxa_counts_tab, 2, function(x) x/sum(x)*100)\n",
    "temp_filt_clases_taxa_proportions_tab <- data.frame(clases_taxa_proportions_tab[apply(clases_taxa_proportions_tab, 1, max) > 5, ])\n",
    "filtered2_proportions <- colSums(clases_taxa_proportions_tab) - colSums(temp_filt_clases_taxa_proportions_tab) \n",
    "filt_clases_taxa_proportions_tab <- rbind(temp_filt_clases_taxa_proportions_tab, \"Other\"=filtered2_proportions)\n",
    "clases_stack <- filt_clases_taxa_proportions_tab\n",
    "clases_stack$Major_Taxa <- row.names(clases_stack)\n",
    "clases_stack.g <- gather(clases_stack, Sample, Proportion, -Major_Taxa)\n",
    "datos_stack<-data.frame(\"Sample\"=row.names(sample_info_tab), \"char\"=sample_info_tab$TYPE, \"color\"=sample_info_tab$color, stringsAsFactors=F)                                   "
   ]
  },
  {
   "cell_type": "code",
   "execution_count": 33,
   "id": "f1ba83d2",
   "metadata": {},
   "outputs": [
    {
     "data": {
      "image/png": "[encoded data removed]",
      "text/plain": [
       "plot without title"
      ]
     },
     "metadata": {
      "image/png": {
       "height": 420,
       "width": 420
      }
     },
     "output_type": "display_data"
    }
   ],
   "source": [
    "stack_plot <- ggplot(clases_stack.g, aes(x=Sample, y=Proportion, fill=Major_Taxa)) +\n",
    "  geom_bar(width=0.6, stat=\"identity\") +\n",
    "  theme_bw() +\n",
    "  theme(axis.text.x=element_text(angle=90, vjust=0.4, hjust=1), legend.title=element_blank()) +\n",
    "  labs(x=\"Sample\", y=\"% of 16S rRNA gene copies recovered\", title=\"All samples\") +\n",
    " facet_grid(~1, scales = 'free_x', space = 'free_x')\n",
    "\n",
    "stack_plot"
   ]
  },
  {
   "cell_type": "code",
   "execution_count": 34,
   "id": "4b38c0dd",
   "metadata": {},
   "outputs": [],
   "source": [
    "library(ampvis2)"
   ]
  },
  {
   "cell_type": "code",
   "execution_count": 35,
   "id": "5e073d0d",
   "metadata": {},
   "outputs": [],
   "source": [
    "obj <- ASV_physeq\n",
    "otutable <- data.frame(OTU = rownames(phyloseq::otu_table(obj)@.Data),\n",
    "                       phyloseq::otu_table(obj)@.Data,\n",
    "                       phyloseq::tax_table(obj)@.Data,\n",
    "                       check.names = FALSE)"
   ]
  },
  {
   "cell_type": "code",
   "execution_count": 36,
   "id": "efc48e08",
   "metadata": {},
   "outputs": [],
   "source": [
    "metadataX <- data.frame(phyloseq::sample_data(obj), \n",
    "                       check.names = FALSE)"
   ]
  },
  {
   "cell_type": "code",
   "execution_count": 37,
   "id": "b47c1c04",
   "metadata": {},
   "outputs": [
    {
     "name": "stderr",
     "output_type": "stream",
     "text": [
      "\n",
      "Attaching package: 'data.table'\n",
      "\n",
      "\n",
      "The following object is masked from 'package:dendextend':\n",
      "\n",
      "    set\n",
      "\n",
      "\n",
      "The following object is masked from 'package:SummarizedExperiment':\n",
      "\n",
      "    shift\n",
      "\n",
      "\n",
      "The following object is masked from 'package:GenomicRanges':\n",
      "\n",
      "    shift\n",
      "\n",
      "\n",
      "The following object is masked from 'package:IRanges':\n",
      "\n",
      "    shift\n",
      "\n",
      "\n",
      "The following objects are masked from 'package:S4Vectors':\n",
      "\n",
      "    first, second\n",
      "\n",
      "\n",
      "The following objects are masked from 'package:dplyr':\n",
      "\n",
      "    between, first, last\n",
      "\n",
      "\n",
      "The following object is masked from 'package:purrr':\n",
      "\n",
      "    transpose\n",
      "\n",
      "\n"
     ]
    }
   ],
   "source": [
    "library(data.table)\n",
    "metadataX <-setDT(metadataX, keep.rownames = TRUE)[]"
   ]
  },
  {
   "cell_type": "code",
   "execution_count": 40,
   "id": "f8b4c5e9",
   "metadata": {},
   "outputs": [
    {
     "data": {
      "image/png": "[encoded data removed]",
      "text/plain": [
       "plot without title"
      ]
     },
     "metadata": {
      "image/png": {
       "height": 420,
       "width": 420
      }
     },
     "output_type": "display_data"
    }
   ],
   "source": [
    "av2 <- amp_load(otutable, metadataX)\n",
    "#Phylum and Class\n",
    "heat_map_plot <- amp_heatmap(av2, \n",
    "            group_by = \"CODE\", \n",
    "            facet_by = \"TYPE\", \n",
    "            plot_values = FALSE,\n",
    "            tax_show = 10,\n",
    "            tax_aggregate = \"Species\",\n",
    "            tax_add = \"Genus\",\n",
    "            plot_colorscale = \"sqrt\",\n",
    "            plot_legendbreaks = c(1, 10, 30, 60))\n",
    "\n",
    "heat_map_plot"
   ]
  },
  {
   "cell_type": "code",
   "execution_count": 39,
   "id": "bd384a04",
   "metadata": {},
   "outputs": [
    {
     "data": {
      "image/png": "[encoded data removed]",
      "text/plain": [
       "plot without title"
      ]
     },
     "metadata": {
      "image/png": {
       "height": 420,
       "width": 420
      }
     },
     "output_type": "display_data"
    }
   ],
   "source": [
    "amp_heatmap(av2, \n",
    "            group_by = \"CODE\", \n",
    "            facet_by = \"TYPE\", \n",
    "            plot_values = FALSE,\n",
    "            tax_show = 10,\n",
    "            tax_aggregate = \"Genus\",\n",
    "            tax_add = \"Class\",\n",
    "            plot_colorscale = \"sqrt\",\n",
    "            plot_legendbreaks = c(1, 10, 30, 60))"
   ]
  },
  {
   "cell_type": "code",
   "execution_count": null,
   "id": "7eaafc2a",
   "metadata": {},
   "outputs": [],
   "source": []
  },
  {
   "cell_type": "code",
   "execution_count": null,
   "id": "f3448f50",
   "metadata": {},
   "outputs": [],
   "source": []
  },
  {
   "cell_type": "code",
   "execution_count": null,
   "id": "ade1ba8c",
   "metadata": {},
   "outputs": [],
   "source": []
  },
  {
   "cell_type": "code",
   "execution_count": null,
   "id": "776678e3",
   "metadata": {},
   "outputs": [],
   "source": []
  },
  {
   "cell_type": "code",
   "execution_count": null,
   "id": "55953b7a",
   "metadata": {},
   "outputs": [],
   "source": []
  }
 ],
 "metadata": {
  "kernelspec": {
   "display_name": "R",
   "language": "R",
   "name": "ir"
  },
  "language_info": {
   "codemirror_mode": "r",
   "file_extension": ".r",
   "mimetype": "text/x-r-source",
   "name": "R",
   "pygments_lexer": "r",
   "version": "4.1.2"
  }
 },
 "nbformat": 4,
 "nbformat_minor": 5
}
